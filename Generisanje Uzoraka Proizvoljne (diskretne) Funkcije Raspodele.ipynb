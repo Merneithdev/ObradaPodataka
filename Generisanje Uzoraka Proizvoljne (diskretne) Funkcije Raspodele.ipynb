{
 "cells": [
  {
   "cell_type": "code",
   "execution_count": 1,
   "metadata": {},
   "outputs": [],
   "source": [
    "import numpy as np\n",
    "from tqdm import tqdm\n",
    "from matplotlib import pyplot as plt\n",
    "import math\n",
    "from Spline import spline_coefs,spline_interp\n"
   ]
  },
  {
   "cell_type": "code",
   "execution_count": 2,
   "metadata": {},
   "outputs": [
    {
     "data": {
      "image/png": "[encoded data removed]",
      "text/plain": [
       "<Figure size 432x288 with 1 Axes>"
      ]
     },
     "metadata": {
      "needs_background": "light"
     },
     "output_type": "display_data"
    }
   ],
   "source": [
    "\n",
    "x = np.array([-5,0,3,6,9,10,11,12,14,15,17])\n",
    "y = np.array([0.0011,0.0016,0.0128,0.0426,0.0426,0.0691,0.089,0.1032,0.1128,0.1048,0.0862])\n",
    "\n",
    "\n",
    "velicina_uzorka = 10000\n",
    "xx = np.linspace(np.min(x),np.max(x),1000)\n",
    "yy = spline_interp(x,y,xx)\n",
    "\n",
    "a,b,c,d = spline_coefs(x,y)\n",
    "l = len(xx)\n",
    "n = len(x)-1\n",
    "\n",
    "Y0 = np.zeros(n)\n",
    "YY = np.zeros(l)\n",
    "\n",
    "for i in range(l):\n",
    "    ind = np.argwhere(x<=xx[i])[-1]\n",
    "    if (ind == n):\n",
    "        ind = ind - 1\n",
    "    if(ind == 0):\n",
    "        Y0[ind] = 0\n",
    "    else:\n",
    "        Y0[ind] = np.polyval([d[ind-1]/4,c[ind-1]/3,b[ind-1]/2,a[ind-1],Y0[ind-1]],x[ind]-x[ind-1])\n",
    "\n",
    "    YY[i] = np.polyval([d[ind]/4,c[ind]/3,b[ind]/2,a[ind],Y0[ind]],(xx[i]-x[ind]))\n",
    "\n",
    "plt.figure()\n",
    "plt.plot(x, y,'o', label='Podaci')\n",
    "plt.plot(xx, yy, 'r',label='Gustina raspodele')\n",
    "\n",
    "\n",
    "## Generisanje uzorka\n",
    "\n",
    "rr = np.random.rand(velicina_uzorka)*np.max(YY)\n",
    "uzorak = np.zeros_like(rr)\n",
    "\n",
    "for i in range(len(rr)):\n",
    "    ind = np.argwhere(Y0<= rr[i])[-1]\n",
    "    if(ind == len(Y0)):\n",
    "        ind = ind - 1\n",
    "\n",
    "    t = np.roots(np.array([d[ind]/4,c[ind]/3,b[ind]/2,a[ind],Y0[ind]-rr[i]]).flatten())\n",
    "    t = t[np.argwhere(np.imag(t)==0).flatten()]\n",
    "    t = t[np.argwhere(t>0).flatten()]\n",
    "    t = t[np.argwhere(t<x[ind+1]-x[ind]).flatten()]\n",
    "    t = t + x[ind]\n",
    "    uzorak[i] = np.real(t)\n",
    "\n",
    "plt.hist(uzorak,100,density=True,label='Uzorak')\n",
    "plt.legend()\n",
    "\n",
    "plt.show()\n",
    "\n"
   ]
  },
  {
   "cell_type": "code",
   "execution_count": null,
   "metadata": {},
   "outputs": [],
   "source": []
  }
 ],
 "metadata": {
  "kernelspec": {
   "display_name": "Python 3",
   "language": "python",
   "name": "python3"
  },
  "language_info": {
   "codemirror_mode": {
    "name": "ipython",
    "version": 3
   },
   "file_extension": ".py",
   "mimetype": "text/x-python",
   "name": "python",
   "nbconvert_exporter": "python",
   "pygments_lexer": "ipython3",
   "version": "3.8.3"
  }
 },
 "nbformat": 4,
 "nbformat_minor": 4
}
