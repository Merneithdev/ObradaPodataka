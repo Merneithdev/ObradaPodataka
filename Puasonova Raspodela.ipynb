{
 "cells": [
  {
   "cell_type": "markdown",
   "metadata": {},
   "source": [
    "## Prilikom meteorske kise imamo 210 meteora po satu. Kakva je raspodela verovatnoce broja meteora u jednom minutu?"
   ]
  },
  {
   "cell_type": "code",
   "execution_count": 1,
   "metadata": {},
   "outputs": [],
   "source": [
    "import numpy as np\n",
    "from tqdm import tqdm\n",
    "from matplotlib import pyplot as plt\n",
    "import math\n",
    "from numpy.random import default_rng\n"
   ]
  },
  {
   "cell_type": "code",
   "execution_count": 2,
   "metadata": {},
   "outputs": [
    {
     "name": "stderr",
     "output_type": "stream",
     "text": [
      "100%|██████████| 1000/1000 [00:04<00:00, 211.13it/s]\n"
     ]
    },
    {
     "data": {
      "image/png": "[encoded data removed]",
      "text/plain": [
       "<Figure size 432x288 with 1 Axes>"
      ]
     },
     "metadata": {
      "needs_background": "light"
     },
     "output_type": "display_data"
    }
   ],
   "source": [
    "rng = default_rng()\n",
    "\n",
    "br_izoraka = 1000\n",
    "br_po_uzorku = 3600\n",
    "lam = 210\n",
    "\n",
    "\n",
    "# generisemo uzorak clanova gde su sve su sve 0 osim lam\n",
    "kontinuum = np.array([])\n",
    "\n",
    "for i in tqdm(range(br_izoraka)):\n",
    "    uzorak = np.zeros(br_po_uzorku)\n",
    "    meteor = rng.choice(br_po_uzorku, size = lam, replace=False)\n",
    "    for j in meteor:\n",
    "        uzorak[j] = 1\n",
    "    kontinuum=np.append(kontinuum,uzorak)\n",
    "\n",
    "br_eksperimenata = 100000\n",
    "br_meteora = np.zeros(br_eksperimenata)\n",
    "\n",
    "novi_uzorak = 60\n",
    "\n",
    "for i in range (br_eksperimenata):\n",
    "    pocetak = np.random.randint(0,len(kontinuum)-novi_uzorak)\n",
    "    test = kontinuum[pocetak:pocetak+novi_uzorak]\n",
    "    br_meteora[i] = sum(test)\n",
    "\n",
    "plt.hist(br_meteora,np.arange(max(br_meteora)),density=True,align='left')\n",
    "\n",
    "k = np.arange(0,20)\n",
    "p = np.zeros(len(k))\n",
    "lam = 210/60\n",
    "\n",
    "for i in range(len(k)):\n",
    "    p[i]=np.exp(-lam)*lam**k[i]/math.factorial(k[i])\n",
    "\n",
    "plt.plot(k,p,'or')\n",
    "plt.show()"
   ]
  },
  {
   "cell_type": "code",
   "execution_count": null,
   "metadata": {},
   "outputs": [],
   "source": []
  }
 ],
 "metadata": {
  "kernelspec": {
   "display_name": "Python 3",
   "language": "python",
   "name": "python3"
  },
  "language_info": {
   "codemirror_mode": {
    "name": "ipython",
    "version": 3
   },
   "file_extension": ".py",
   "mimetype": "text/x-python",
   "name": "python",
   "nbconvert_exporter": "python",
   "pygments_lexer": "ipython3",
   "version": "3.8.3"
  }
 },
 "nbformat": 4,
 "nbformat_minor": 4
}
